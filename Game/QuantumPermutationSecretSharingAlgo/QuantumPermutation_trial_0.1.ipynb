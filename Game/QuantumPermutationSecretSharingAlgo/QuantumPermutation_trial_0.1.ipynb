{
 "cells": [
  {
   "cell_type": "code",
   "execution_count": 1,
   "metadata": {},
   "outputs": [],
   "source": [
    "import numpy as np\n",
    "from numpy import pi\n",
    "import math\n",
    "import seaborn as sns\n",
    "from IPython.display import Image\n",
    "import matplotlib.pyplot as plt\n",
    "from typing import Union\n",
    "from typing import *"
   ]
  },
  {
   "cell_type": "code",
   "execution_count": 2,
   "metadata": {},
   "outputs": [],
   "source": [
    "## imports\n",
    "from qiskit import *\n",
    "from qiskit.circuit.library import *\n",
    "from qiskit.algorithms import *\n",
    "from qiskit import QuantumRegister, ClassicalRegister, QuantumCircuit #, InstructionSet\n",
    "from qiskit import quantum_info, IBMQ, Aer\n",
    "from qiskit.quantum_info import partial_trace, Statevector, state_fidelity\n",
    "from qiskit.utils import QuantumInstance\n",
    "from qiskit.extensions import HamiltonianGate\n",
    "from qiskit.circuit.quantumregister import Qubit\n",
    "from qiskit.visualization import plot_histogram, plot_state_qsphere, plot_bloch_multivector, plot_bloch_vector\n"
   ]
  },
  {
   "cell_type": "code",
   "execution_count": 3,
   "metadata": {},
   "outputs": [],
   "source": [
    "## IBM setup ~\n",
    "# IBMQ.save_account(\"1c62e8a0d2b058d0e797db9c811bc34582df5553e25812301cd1518662c0ab68d2378ac6c197b65f8be944d04b7e7439f034e3926a44fa8088538b3d13782c1a\", overwrite= True)\n",
    "# provider = IBMQ.load_account()\n",
    "# IBMQ.get_provider(hub='ibm-q-education', group='iit-madras-1', project='quantum-computin')\n",
    "# # setup required backends \n",
    "# lima = provider.get_backend('ibmq_lima')\n",
    "# construct circuit for uncertainty modeler.get_backend('ibmq_lima')\n",
    "# manila = provider.get_backend('ibmq_manila')\n",
    "qsm = Aer.get_backend('qasm_simulator')\n",
    "stv = Aer.get_backend('statevector_simulator')\n",
    "aer = Aer.get_backend('aer_simulator')"
   ]
  },
  {
   "cell_type": "markdown",
   "metadata": {},
   "source": [
    "##### #Helper functions"
   ]
  },
  {
   "cell_type": "code",
   "execution_count": 4,
   "metadata": {},
   "outputs": [],
   "source": [
    "def measure_and_plot(qc: QuantumCircuit, show_counts:bool= False, measure_ancilla: bool = False, ancilla_specifier:Union[list,int, str] = 'all'):\n",
    "    \"\"\" Measure and plot the state of the data registers, optionally measure the control ancillas. \n",
    "        \n",
    "        ARGS:\n",
    "            qc : 'QuantumCircuit' -> to be measured\n",
    "            show_counts : 'bool' -> print the counts dictionary\n",
    "            measure_ancilla : 'bool' ->  indicates whether to measure the control ancilla registers.\n",
    "            ancilla_specifier : 'int' -> inidicates which of the control registers to meausure, \n",
    "                                            for eg. ancilla_specifier= 1 refers to the first control ancilla\n",
    "                                                    ancilla_specifier= 'all' refers to all the ancillas                                                           \n",
    "        RETURNS:\n",
    "            plots histogram over the computational basis statesss\n",
    "\n",
    "     \"\"\"\n",
    "    qc_m = qc.copy()\n",
    "    creg = ClassicalRegister( len(qc_m.qregs[0]) )\n",
    "    qc_m.add_register(creg)\n",
    "    qc_m.measure(qc_m.qregs[0], creg)\n",
    "\n",
    "    if measure_ancilla == True:\n",
    "\n",
    "        if isinstance(ancilla_specifier, int):\n",
    "            if ancilla_specifier > len(qc_m.qregs) or ancilla_specifier < 1: raise ValueError(\" 'ancilla_specifier' should be less than no. of control registers and greater than 0\")\n",
    "\n",
    "            creg_cntrl = ClassicalRegister(len(qc_m.qregs[ancilla_specifier]))\n",
    "            qc_m.add_register(creg_cntrl)\n",
    "            qc_m.measure(qc_m.qregs[ancilla_specifier], creg_cntrl )\n",
    "        \n",
    "        elif isinstance(ancilla_specifier, list):\n",
    "            for ancilla in ancilla_specifier:\n",
    "                if ancilla > len(qc_m.qregs) or ancilla < 1: raise ValueError(\" 'ancilla_specifier' should be less than no. of control registers and greater than 0\")\n",
    "            \n",
    "                creg_cntrl = ClassicalRegister(len(qc_m.qregs[ancilla]))\n",
    "                qc_m.add_register(creg_cntrl)\n",
    "                qc_m.measure(qc_m.qregs[ancilla], creg_cntrl )\n",
    "\n",
    "        elif isinstance(ancilla_specifier, str) and ancilla_specifier== \"all\":\n",
    "            for reg in qc_m.qregs[1:] :\n",
    "                creg = ClassicalRegister(len(reg))\n",
    "                qc_m.add_register(creg)\n",
    "                qc_m.measure(reg, creg)\n",
    "                \n",
    "    plt.figure()\n",
    "    counts = execute(qc_m, qsm, shots= 1024).result().get_counts()\n",
    "    if show_counts== True: print(counts)\n",
    "    return plot_histogram(counts)\n",
    "    "
   ]
  },
  {
   "cell_type": "code",
   "execution_count": 5,
   "metadata": {},
   "outputs": [],
   "source": [
    "## initial state preparation ~\n",
    "def s_psi0(p):\n",
    "    \"\"\" Prepare a QuantumCircuit that intiates a state required\n",
    "        input:\n",
    "            p= amplitude \n",
    "        output:\n",
    "            s_psi0 gate    \"\"\"\n",
    "            \n",
    "    qc = QuantumCircuit(1, name= \" S_psi0 \")\n",
    "    theta = 2*np.arcsin(np.sqrt(p))\n",
    "    qc.ry(theta, 0)\n",
    "\n",
    "    return qc.to_gate()    "
   ]
  },
  {
   "cell_type": "code",
   "execution_count": 6,
   "metadata": {},
   "outputs": [],
   "source": [
    "## string to oracle ~\n",
    "def str_to_oracle(pattern: str, name= 'oracle', return_type = \"QuantumCircuit\" ) -> Union[QuantumCircuit,  Statevector] :\n",
    "    \"\"\" Convert a given string to an oracle circuit\n",
    "        ARGS:\n",
    "             pattern: a numpy vector with binarry entries \n",
    "             return_type: ['QuantumCircuit', 'Statevector']\n",
    "\n",
    "        RETURNS: \n",
    "               'QuantumCircuit' implementing the oracle\n",
    "               'Statevector' evolved under the action of the oracle   \"\"\"\n",
    "\n",
    "\n",
    "    l = len(pattern)\n",
    "    qr = QuantumRegister(l, name='reg')\n",
    "    a = AncillaRegister(1, name='ancilla')\n",
    "    oracle_circuit = QuantumCircuit(qr, a, name= name+'_'+ pattern )\n",
    "    for q in range(l):\n",
    "        if(pattern[q]=='0'): oracle_circuit.x(qr[q])\n",
    "    oracle_circuit.x(a)\n",
    "    oracle_circuit.h(a)\n",
    "    oracle_circuit.mcx(qr, a)\n",
    "    oracle_circuit.h(a)\n",
    "    oracle_circuit.x(a)\n",
    "    for q in range(l):\n",
    "        if(pattern[q]=='0'): oracle_circuit.x(qr[q])\n",
    "    \n",
    "    #oracle_circuit.barrier()\n",
    "    if return_type == \"QuantumCircuit\":\n",
    "        return oracle_circuit\n",
    "    elif return_type == \"Statevector\":\n",
    "        return Statevector.from_instruction(qc)\n",
    "\n",
    "\n",
    "\n",
    "## oracle prep ~\n",
    "def generate_oracles(good_states: list) -> QuantumCircuit :\n",
    "    \"\"\" Return a QuantumCircuit that implements the oracles given the good_states\n",
    "        ARGS:\n",
    "            good_states: list of good staes, states must be binary strings, Eg. ['00', '11']\n",
    "\n",
    "        RETURNS:\n",
    "           ' QuantumCircuit' iplementing the oracle circuits \"\"\"\n",
    "\n",
    "    oracles = [ str_to_oracle(good_state) for good_state in good_states ]\n",
    "    oracle_circuit = oracles[0]\n",
    "    for oracle in oracles[1:] :\n",
    "        oracle_circuit.compose(oracle,  inplace= True)\n",
    "    \n",
    "\n",
    "    return oracle_circuit\n",
    "\n"
   ]
  },
  {
   "cell_type": "markdown",
   "metadata": {},
   "source": [
    "##### #Permutation routines "
   ]
  },
  {
   "cell_type": "code",
   "execution_count": 7,
   "metadata": {},
   "outputs": [],
   "source": [
    "def bit_conditional( num: int, qc: QuantumCircuit, register: QuantumRegister): ## @helper_function\n",
    "    \"\"\" helper function to assist the conditioning of ancillas for generating permutations\n",
    "    \n",
    "        ARGS:\n",
    "            num : the integer to be conditioned upon \n",
    "            qc : QuantumCircuit of the original circuit\n",
    "            register : QuantumRegister corresponding to the ancilla which is conditioned upon \n",
    "        \n",
    "        RETURNS:\n",
    "            Works inplace i.e modifies the original circuit 'qc' that was passed \n",
    "            \n",
    "    \"\"\"\n",
    "\n",
    "    n = len(register)\n",
    "    bin_str = format(num, \"b\").zfill(n)\n",
    "    assert len(bin_str) == len(register)            ## need to assurethe bit ordering covention according tto qiskit's\n",
    "\n",
    "    bin_str = bin_str[::-1]                         ## reverse the bit string\n",
    "    for index, bit in enumerate(bin_str):\n",
    "        if bit== '0': qc.x(register[index]) \n",
    "        "
   ]
  },
  {
   "cell_type": "code",
   "execution_count": 8,
   "metadata": {},
   "outputs": [],
   "source": [
    "def generate_permutation_operators(num_bits:int , power:int= 1)-> QuantumCircuit :\n",
    "    \"\"\" Function to generate the permutaion operators \n",
    "    \n",
    "        ARGS:\n",
    "            num_bits : no. of elements in the permutation set\n",
    "            power : power of the permuation operator\n",
    "            \n",
    "        RETURNS:\n",
    "            QuantumCircuit implementing the permutation operator\n",
    "    \"\"\"\n",
    "\n",
    "    if num_bits < 2 : raise ValueError(\" 'num_bits' must be greater than or equal to 2 \") \n",
    "    if power not in list(range(num_bits)) : raise ValueError(\" 'power' must be such that ; 0 <= 'power' < 'num_bits'  \")\n",
    "\n",
    "    qreg = QuantumRegister(num_bits, name= 'qreg')\n",
    "    qc = QuantumCircuit(qreg)\n",
    "\n",
    "    for rep in range(power):    \n",
    "        for qubit in range(num_bits-1):\n",
    "            qc.swap(qubit, qubit+1)\n",
    "\n",
    "    return qc.to_gate(label= 'P_'+str(num_bits)+'('+str(power)+')')\n",
    "\n"
   ]
  },
  {
   "cell_type": "markdown",
   "metadata": {},
   "source": [
    "##### #Trials"
   ]
  },
  {
   "cell_type": "code",
   "execution_count": 21,
   "metadata": {},
   "outputs": [
    {
     "data": {
      "image/png": "[encoded data removed]",
      "text/plain": [
       "<Figure size 364.258x626.08 with 1 Axes>"
      ]
     },
     "execution_count": 21,
     "metadata": {},
     "output_type": "execute_result"
    }
   ],
   "source": [
    "n = 4\n",
    "qreg = QuantumRegister(n, name= 'qreg')\n",
    "# creg = ClassicalRegister(n, name= 'creg')\n",
    "controls = [QuantumRegister( math.ceil(np.log2(j))  , name= 'controls '+str(j)+':' ) for j in range(2, n+1)  ]\n",
    "\n",
    "qc = QuantumCircuit(qreg)\n",
    "for ancilla in controls: \n",
    "    qc.add_register(ancilla)\n",
    "\n",
    "ancilla_qubit = QuantumRegister(1, name= 'ancilla')\n",
    "qc.add_register(ancilla_qubit)   \n",
    "\n",
    "## state initialisation ~\n",
    "qc.barrier()\n",
    "\n",
    "# for i in range(n):\n",
    "#     p = (i+1)/10\n",
    "#     theta = 2*np.arcsin(np.sqrt(p))\n",
    "#     qc.ry(theta, i)\n",
    "\n",
    "qc.x(1)\n",
    "# qc.x(2)\n",
    "# qc.x(4)\n",
    "qc.x(3)\n",
    "\n",
    "# for i in range(n):\n",
    "#     if np.random.choice([0,1])== 1: qc.x(i)\n",
    "\n",
    "## control initialisation ~\n",
    "for ancilla in controls: qc.h(ancilla)\n",
    "qc.barrier()\n",
    "\n",
    "qc.draw(output= 'mpl')\n"
   ]
  },
  {
   "cell_type": "code",
   "execution_count": 29,
   "metadata": {},
   "outputs": [
    {
     "data": {
      "image/png": "[encoded data removed]",
      "text/plain": [
       "<Figure size 1688.66x1288.28 with 1 Axes>"
      ]
     },
     "execution_count": 29,
     "metadata": {},
     "output_type": "execute_result"
    }
   ],
   "source": [
    "# for permutation_operator in range(2,n+1):\n",
    "permutation_size = 4\n",
    "control = controls[ permutation_size - 2  ]\n",
    "permutation_operators_n = [ generate_permutation_operators(permutation_size ,power= k) for k in range(0, permutation_size) ]\n",
    "\n",
    "for power in range(0, permutation_size):\n",
    "    bit_conditional(power, qc, control)\n",
    "    qc.append(permutation_operators_n[power].control(len(control)), [ control[i] for i in range(len(control))  ] + [ qreg[i] for i in range(permutation_size) ]  )\n",
    "    bit_conditional(power, qc, control)\n",
    "    qc.barrier()\n",
    "    \n",
    "# qc.compose(permutation_operators_n[1], inplace= True)\n",
    "\n",
    "qc.draw(output= 'mpl')"
   ]
  },
  {
   "cell_type": "code",
   "execution_count": 28,
   "metadata": {},
   "outputs": [
    {
     "name": "stdout",
     "output_type": "stream",
     "text": [
      "{'01 1 1100': 119, '10 1 1010': 134, '11 0 1010': 137, '10 0 1100': 133, '01 0 1001': 109, '00 1 1001': 145, '00 0 1010': 129, '11 1 1001': 118}\n"
     ]
    },
    {
     "data": {
      "image/png": "[encoded data removed]",
      "text/plain": [
       "<Figure size 504x360 with 1 Axes>"
      ]
     },
     "execution_count": 28,
     "metadata": {},
     "output_type": "execute_result"
    },
    {
     "data": {
      "text/plain": [
       "<Figure size 432x288 with 0 Axes>"
      ]
     },
     "metadata": {},
     "output_type": "display_data"
    }
   ],
   "source": [
    "measure_and_plot(qc, show_counts= True, measure_ancilla= True, ancilla_specifier= [1,2] ) "
   ]
  },
  {
   "cell_type": "code",
   "execution_count": 69,
   "metadata": {},
   "outputs": [],
   "source": [
    "%run quantum_permutation_utils.py\n",
    "from quantum_permutation_utils import *"
   ]
  },
  {
   "cell_type": "code",
   "execution_count": 60,
   "metadata": {},
   "outputs": [
    {
     "data": {
      "text/plain": [
       "<qiskit.circuit.instructionset.InstructionSet at 0x7f2676776880>"
      ]
     },
     "execution_count": 60,
     "metadata": {},
     "output_type": "execute_result"
    }
   ],
   "source": [
    "## post state selecetion ~\n",
    "good_state = '01'\n",
    "or_c = str_to_oracle(good_state)\n",
    "grv_c = GroverOperator(or_c, name= 'grover_'+ good_state)\n",
    "\n",
    "# qc.append(grv_c, [ controls[1][0], controls[1][1], ancilla_qubit  ])\n",
    "# qc.compose( grv_c, [ controls[1][0], controls[1][1], ancilla_qubit  ] , inplace= True)\n",
    "# qc.draw()"
   ]
  },
  {
   "cell_type": "code",
   "execution_count": 70,
   "metadata": {},
   "outputs": [],
   "source": [
    "good_states = ['01']\n",
    "grv = grover(good_states, insert_barrier= True)\n",
    "# grv.draw()"
   ]
  },
  {
   "cell_type": "code",
   "execution_count": 71,
   "metadata": {},
   "outputs": [
    {
     "data": {
      "image/png": "[encoded data removed]",
      "text/plain": [
       "<Figure size 504x360 with 1 Axes>"
      ]
     },
     "execution_count": 71,
     "metadata": {},
     "output_type": "execute_result"
    },
    {
     "data": {
      "text/plain": [
       "<Figure size 432x288 with 0 Axes>"
      ]
     },
     "metadata": {},
     "output_type": "display_data"
    }
   ],
   "source": [
    "qr = QuantumRegister(2)\n",
    "a = QuantumRegister(1)\n",
    "q = QuantumCircuit(qr, a)\n",
    "q.h(qr)\n",
    "q.compose(grv, inplace= True)\n",
    "q.draw()\n",
    "measure_and_plot(q)"
   ]
  },
  {
   "cell_type": "code",
   "execution_count": 73,
   "metadata": {},
   "outputs": [
    {
     "data": {
      "text/html": [
       "<pre style=\"word-wrap: normal;white-space: pre;background: #fff0;line-height: 1.1;font-family: &quot;Courier New&quot;,Courier,monospace\">                ░       ░      ┌─────────┐      ░      ┌─────────┐      ░      »\n",
       "       qreg_0: ─░───────░──────┤0        ├──────░──────┤0        ├──────░──────»\n",
       "                ░ ┌───┐ ░      │         │      ░      │         │      ░      »\n",
       "       qreg_1: ─░─┤ X ├─░──────┤1 P_3(0) ├──────░──────┤1 P_3(1) ├──────░──────»\n",
       "                ░ ├───┤ ░      │         │      ░      │         │      ░      »\n",
       "       qreg_2: ─░─┤ X ├─░──────┤2        ├──────░──────┤2        ├──────░──────»\n",
       "                ░ ├───┤ ░      └────┬────┘      ░      └────┬────┘      ░      »\n",
       "  controls 2:: ─░─┤ H ├─░───────────┼───────────░───────────┼───────────░──────»\n",
       "                ░ ├───┤ ░ ┌───┐     │     ┌───┐ ░           │           ░ ┌───┐»\n",
       "controls 3:_0: ─░─┤ H ├─░─┤ X ├─────■─────┤ X ├─░───────────■───────────░─┤ X ├»\n",
       "                ░ ├───┤ ░ ├───┤     │     ├───┤ ░ ┌───┐     │     ┌───┐ ░ └───┘»\n",
       "controls 3:_1: ─░─┤ H ├─░─┤ X ├─────■─────┤ X ├─░─┤ X ├─────■─────┤ X ├─░──────»\n",
       "                ░ └───┘ ░ └───┘           └───┘ ░ └───┘           └───┘ ░      »\n",
       "      ancilla: ─░───────░───────────────────────░───────────────────────░──────»\n",
       "                ░       ░                       ░                       ░      »\n",
       "«               ┌─────────┐      ░                             \n",
       "«       qreg_0: ┤0        ├──────░─────────────────────────────\n",
       "«               │         │      ░                             \n",
       "«       qreg_1: ┤1 P_3(2) ├──────░─────────────────────────────\n",
       "«               │         │      ░                             \n",
       "«       qreg_2: ┤2        ├──────░─────────────────────────────\n",
       "«               └────┬────┘      ░                             \n",
       "«  controls 2:: ─────┼───────────░─────────────────────────────\n",
       "«                    │     ┌───┐ ░ ┌────────────┐┌────────────┐\n",
       "«controls 3:_0: ─────■─────┤ X ├─░─┤0           ├┤0           ├\n",
       "«                    │     └───┘ ░ │            ││            │\n",
       "«controls 3:_1: ─────■───────────░─┤1 oracle_01 ├┤1 oracle_01 ├\n",
       "«                                ░ │            ││            │\n",
       "«      ancilla: ─────────────────░─┤2           ├┤2           ├\n",
       "«                                ░ └────────────┘└────────────┘</pre>"
      ],
      "text/plain": [
       "                ░       ░      ┌─────────┐      ░      ┌─────────┐      ░      »\n",
       "       qreg_0: ─░───────░──────┤0        ├──────░──────┤0        ├──────░──────»\n",
       "                ░ ┌───┐ ░      │         │      ░      │         │      ░      »\n",
       "       qreg_1: ─░─┤ X ├─░──────┤1 P_3(0) ├──────░──────┤1 P_3(1) ├──────░──────»\n",
       "                ░ ├───┤ ░      │         │      ░      │         │      ░      »\n",
       "       qreg_2: ─░─┤ X ├─░──────┤2        ├──────░──────┤2        ├──────░──────»\n",
       "                ░ ├───┤ ░      └────┬────┘      ░      └────┬────┘      ░      »\n",
       "  controls 2:: ─░─┤ H ├─░───────────┼───────────░───────────┼───────────░──────»\n",
       "                ░ ├───┤ ░ ┌───┐     │     ┌───┐ ░           │           ░ ┌───┐»\n",
       "controls 3:_0: ─░─┤ H ├─░─┤ X ├─────■─────┤ X ├─░───────────■───────────░─┤ X ├»\n",
       "                ░ ├───┤ ░ ├───┤     │     ├───┤ ░ ┌───┐     │     ┌───┐ ░ └───┘»\n",
       "controls 3:_1: ─░─┤ H ├─░─┤ X ├─────■─────┤ X ├─░─┤ X ├─────■─────┤ X ├─░──────»\n",
       "                ░ └───┘ ░ └───┘           └───┘ ░ └───┘           └───┘ ░      »\n",
       "      ancilla: ─░───────░───────────────────────░───────────────────────░──────»\n",
       "                ░       ░                       ░                       ░      »\n",
       "«               ┌─────────┐      ░                             \n",
       "«       qreg_0: ┤0        ├──────░─────────────────────────────\n",
       "«               │         │      ░                             \n",
       "«       qreg_1: ┤1 P_3(2) ├──────░─────────────────────────────\n",
       "«               │         │      ░                             \n",
       "«       qreg_2: ┤2        ├──────░─────────────────────────────\n",
       "«               └────┬────┘      ░                             \n",
       "«  controls 2:: ─────┼───────────░─────────────────────────────\n",
       "«                    │     ┌───┐ ░ ┌────────────┐┌────────────┐\n",
       "«controls 3:_0: ─────■─────┤ X ├─░─┤0           ├┤0           ├\n",
       "«                    │     └───┘ ░ │            ││            │\n",
       "«controls 3:_1: ─────■───────────░─┤1 oracle_01 ├┤1 oracle_01 ├\n",
       "«                                ░ │            ││            │\n",
       "«      ancilla: ─────────────────░─┤2           ├┤2           ├\n",
       "«                                ░ └────────────┘└────────────┘"
      ]
     },
     "execution_count": 73,
     "metadata": {},
     "output_type": "execute_result"
    }
   ],
   "source": [
    "qc.append(grv, [ controls[1][0], controls[1][1], ancilla_qubit  ])\n",
    "qc.draw()"
   ]
  },
  {
   "cell_type": "code",
   "execution_count": 74,
   "metadata": {},
   "outputs": [
    {
     "name": "stdout",
     "output_type": "stream",
     "text": [
      "{'01 101': 55, '11 011': 67, '00 011': 68, '01 011': 71, '10 101': 62, '11 101': 64, '10 110': 246, '00 101': 70, '10 011': 67, '01 110': 254}\n"
     ]
    },
    {
     "data": {
      "image/png": "[encoded data removed]",
      "text/plain": [
       "<Figure size 504x360 with 1 Axes>"
      ]
     },
     "execution_count": 74,
     "metadata": {},
     "output_type": "execute_result"
    },
    {
     "data": {
      "text/plain": [
       "<Figure size 432x288 with 0 Axes>"
      ]
     },
     "metadata": {},
     "output_type": "display_data"
    }
   ],
   "source": [
    "measure_and_plot(qc, show_counts= True, measure_ancilla= True, ancilla_specifier= 2 )"
   ]
  },
  {
   "cell_type": "code",
   "execution_count": 18,
   "metadata": {},
   "outputs": [
    {
     "ename": "NameError",
     "evalue": "name 'an' is not defined",
     "output_type": "error",
     "traceback": [
      "\u001b[0;31m---------------------------------------------------------------------------\u001b[0m",
      "\u001b[0;31mNameError\u001b[0m                                 Traceback (most recent call last)",
      "\u001b[1;32m/home/rajarsi/Documents/QuantumPermutations/QuantumPermutationSecretSharing/QuantumPermutation_trial_0.1.ipynb Cell 20\u001b[0m in \u001b[0;36m<cell line: 3>\u001b[0;34m()\u001b[0m\n\u001b[1;32m      <a href='vscode-notebook-cell:/home/rajarsi/Documents/QuantumPermutations/QuantumPermutationSecretSharing/QuantumPermutation_trial_0.1.ipynb#X25sZmlsZQ%3D%3D?line=0'>1</a>\u001b[0m projector_0 \u001b[39m=\u001b[39m Statevector\u001b[39m.\u001b[39mfrom_label(\u001b[39m'\u001b[39m\u001b[39m0\u001b[39m\u001b[39m'\u001b[39m)\u001b[39m.\u001b[39mto_operator()\n\u001b[1;32m      <a href='vscode-notebook-cell:/home/rajarsi/Documents/QuantumPermutations/QuantumPermutationSecretSharing/QuantumPermutation_trial_0.1.ipynb#X25sZmlsZQ%3D%3D?line=1'>2</a>\u001b[0m unitary_0 \u001b[39m=\u001b[39m HamiltonianGate(projector_0, pi)\n\u001b[0;32m----> <a href='vscode-notebook-cell:/home/rajarsi/Documents/QuantumPermutations/QuantumPermutationSecretSharing/QuantumPermutation_trial_0.1.ipynb#X25sZmlsZQ%3D%3D?line=2'>3</a>\u001b[0m qc\u001b[39m.\u001b[39mappend(unitary_0, an )\n\u001b[1;32m      <a href='vscode-notebook-cell:/home/rajarsi/Documents/QuantumPermutations/QuantumPermutationSecretSharing/QuantumPermutation_trial_0.1.ipynb#X25sZmlsZQ%3D%3D?line=3'>4</a>\u001b[0m qc\u001b[39m.\u001b[39mdraw()\n",
      "\u001b[0;31mNameError\u001b[0m: name 'an' is not defined"
     ]
    }
   ],
   "source": [
    "projector_0 = Statevector.from_label('0').to_operator()\n",
    "unitary_0 = HamiltonianGate(projector_0, pi)\n",
    "qc.append(unitary_0, an )\n",
    "qc.draw()"
   ]
  },
  {
   "cell_type": "code",
   "execution_count": null,
   "metadata": {},
   "outputs": [
    {
     "data": {
      "image/png": "[encoded data removed]",
      "text/plain": [
       "<Figure size 504x360 with 1 Axes>"
      ]
     },
     "execution_count": 60,
     "metadata": {},
     "output_type": "execute_result"
    },
    {
     "data": {
      "text/plain": [
       "<Figure size 432x288 with 0 Axes>"
      ]
     },
     "metadata": {},
     "output_type": "display_data"
    }
   ],
   "source": [
    "measure_and_plot(qc)"
   ]
  },
  {
   "cell_type": "code",
   "execution_count": null,
   "metadata": {},
   "outputs": [
    {
     "data": {
      "text/html": [
       "<pre style=\"word-wrap: normal;white-space: pre;background: #fff0;line-height: 1.1;font-family: &quot;Courier New&quot;,Courier,monospace\">                ░ ┌───┐ ░      ┌─────────┐      ░      ┌─────────┐      ░      »\n",
       "       qreg_0: ─░─┤ X ├─░──────┤0        ├──────░──────┤0        ├──────░──────»\n",
       "                ░ └───┘ ░      │         │      ░      │         │      ░      »\n",
       "       qreg_1: ─░───────░──────┤1 P_3(0) ├──────░──────┤1 P_3(1) ├──────░──────»\n",
       "                ░       ░      │         │      ░      │         │      ░      »\n",
       "       qreg_2: ─░───────░──────┤2        ├──────░──────┤2        ├──────░──────»\n",
       "                ░ ┌───┐ ░      └────┬────┘      ░      └────┬────┘      ░      »\n",
       "  controls 2:: ─░─┤ H ├─░───────────┼───────────░───────────┼───────────░──────»\n",
       "                ░ ├───┤ ░ ┌───┐     │     ┌───┐ ░           │           ░ ┌───┐»\n",
       "controls 3:_0: ─░─┤ H ├─░─┤ X ├─────■─────┤ X ├─░───────────■───────────░─┤ X ├»\n",
       "                ░ ├───┤ ░ ├───┤     │     ├───┤ ░ ┌───┐     │     ┌───┐ ░ └───┘»\n",
       "controls 3:_1: ─░─┤ H ├─░─┤ X ├─────■─────┤ X ├─░─┤ X ├─────■─────┤ X ├─░──────»\n",
       "                ░ └───┘ ░ └───┘           └───┘ ░ └───┘           └───┘ ░      »\n",
       "«               ┌─────────┐      ░      ┌─────────┐      ░ ┌─────────┐ ░ \n",
       "«       qreg_0: ┤0        ├──────░──────┤0        ├──────░─┤0        ├─░─\n",
       "«               │         │      ░      │  P_2(0) │      ░ │  P_2(1) │ ░ \n",
       "«       qreg_1: ┤1 P_3(2) ├──────░──────┤1        ├──────░─┤1        ├─░─\n",
       "«               │         │      ░      └────┬────┘      ░ └────┬────┘ ░ \n",
       "«       qreg_2: ┤2        ├──────░───────────┼───────────░──────┼──────░─\n",
       "«               └────┬────┘      ░ ┌───┐     │     ┌───┐ ░      │      ░ \n",
       "«  controls 2:: ─────┼───────────░─┤ X ├─────■─────┤ X ├─░──────■──────░─\n",
       "«                    │     ┌───┐ ░ └───┘           └───┘ ░             ░ \n",
       "«controls 3:_0: ─────■─────┤ X ├─░───────────────────────░─────────────░─\n",
       "«                    │     └───┘ ░                       ░             ░ \n",
       "«controls 3:_1: ─────■───────────░───────────────────────░─────────────░─\n",
       "«                                ░                       ░             ░ </pre>"
      ],
      "text/plain": [
       "                ░ ┌───┐ ░      ┌─────────┐      ░      ┌─────────┐      ░      »\n",
       "       qreg_0: ─░─┤ X ├─░──────┤0        ├──────░──────┤0        ├──────░──────»\n",
       "                ░ └───┘ ░      │         │      ░      │         │      ░      »\n",
       "       qreg_1: ─░───────░──────┤1 P_3(0) ├──────░──────┤1 P_3(1) ├──────░──────»\n",
       "                ░       ░      │         │      ░      │         │      ░      »\n",
       "       qreg_2: ─░───────░──────┤2        ├──────░──────┤2        ├──────░──────»\n",
       "                ░ ┌───┐ ░      └────┬────┘      ░      └────┬────┘      ░      »\n",
       "  controls 2:: ─░─┤ H ├─░───────────┼───────────░───────────┼───────────░──────»\n",
       "                ░ ├───┤ ░ ┌───┐     │     ┌───┐ ░           │           ░ ┌───┐»\n",
       "controls 3:_0: ─░─┤ H ├─░─┤ X ├─────■─────┤ X ├─░───────────■───────────░─┤ X ├»\n",
       "                ░ ├───┤ ░ ├───┤     │     ├───┤ ░ ┌───┐     │     ┌───┐ ░ └───┘»\n",
       "controls 3:_1: ─░─┤ H ├─░─┤ X ├─────■─────┤ X ├─░─┤ X ├─────■─────┤ X ├─░──────»\n",
       "                ░ └───┘ ░ └───┘           └───┘ ░ └───┘           └───┘ ░      »\n",
       "«               ┌─────────┐      ░      ┌─────────┐      ░ ┌─────────┐ ░ \n",
       "«       qreg_0: ┤0        ├──────░──────┤0        ├──────░─┤0        ├─░─\n",
       "«               │         │      ░      │  P_2(0) │      ░ │  P_2(1) │ ░ \n",
       "«       qreg_1: ┤1 P_3(2) ├──────░──────┤1        ├──────░─┤1        ├─░─\n",
       "«               │         │      ░      └────┬────┘      ░ └────┬────┘ ░ \n",
       "«       qreg_2: ┤2        ├──────░───────────┼───────────░──────┼──────░─\n",
       "«               └────┬────┘      ░ ┌───┐     │     ┌───┐ ░      │      ░ \n",
       "«  controls 2:: ─────┼───────────░─┤ X ├─────■─────┤ X ├─░──────■──────░─\n",
       "«                    │     ┌───┐ ░ └───┘           └───┘ ░             ░ \n",
       "«controls 3:_0: ─────■─────┤ X ├─░───────────────────────░─────────────░─\n",
       "«                    │     └───┘ ░                       ░             ░ \n",
       "«controls 3:_1: ─────■───────────░───────────────────────░─────────────░─\n",
       "«                                ░                       ░             ░ "
      ]
     },
     "execution_count": 36,
     "metadata": {},
     "output_type": "execute_result"
    }
   ],
   "source": [
    "# for permutation_operator in range(2,n+1):\n",
    "permutation_size = 2\n",
    "ancilla = ancillas[ permutation_size - 2  ]\n",
    "permutation_operators_n = [ generate_permutation_operators(permutation_size ,power= k) for k in range(0, permutation_size) ]\n",
    "\n",
    "for power in range(0, permutation_size):\n",
    "    bit_conditional(power, qc, ancilla)\n",
    "    qc.append(permutation_operators_n[power].control(len(ancilla)), [ ancilla[i] for i in range(len(ancilla))  ] + [ qreg[i] for i in range(permutation_size) ]  )\n",
    "    bit_conditional(power, qc, ancilla)\n",
    "    qc.barrier()\n",
    "# qc.compose(permutation_operators_n[1], inplace= True)\n",
    "\n",
    "qc.draw()"
   ]
  },
  {
   "cell_type": "code",
   "execution_count": null,
   "metadata": {},
   "outputs": [
    {
     "data": {
      "image/png": "[encoded data removed]",
      "text/plain": [
       "<Figure size 504x360 with 1 Axes>"
      ]
     },
     "execution_count": 37,
     "metadata": {},
     "output_type": "execute_result"
    },
    {
     "data": {
      "text/plain": [
       "<Figure size 432x288 with 0 Axes>"
      ]
     },
     "metadata": {},
     "output_type": "display_data"
    }
   ],
   "source": [
    "measure_and_plot(qc)"
   ]
  },
  {
   "cell_type": "code",
   "execution_count": null,
   "metadata": {},
   "outputs": [
    {
     "data": {
      "text/plain": [
       "[Qubit(QuantumRegister(2, 'controls 3:'), 0),\n",
       " Qubit(QuantumRegister(2, 'controls 3:'), 1),\n",
       " Qubit(QuantumRegister(5, 'qreg'), 0),\n",
       " Qubit(QuantumRegister(5, 'qreg'), 1),\n",
       " Qubit(QuantumRegister(5, 'qreg'), 2),\n",
       " Qubit(QuantumRegister(5, 'qreg'), 3),\n",
       " Qubit(QuantumRegister(5, 'qreg'), 4)]"
      ]
     },
     "execution_count": 14,
     "metadata": {},
     "output_type": "execute_result"
    }
   ],
   "source": [
    "[ ancilla[i] for i in range(len(ancilla))] + [qreg[i] for i in range(len(qreg))]"
   ]
  },
  {
   "cell_type": "code",
   "execution_count": null,
   "metadata": {},
   "outputs": [],
   "source": [
    "creg = ClassicalRegister(1, name= 'creg1')\n"
   ]
  },
  {
   "cell_type": "code",
   "execution_count": null,
   "metadata": {},
   "outputs": [
    {
     "name": "stdout",
     "output_type": "stream",
     "text": [
      "i=  0  : 2\n",
      "i=  1  : 2\n",
      "i=  2  : 2\n",
      "i=  3  : 3\n",
      "i=  4  : 5\n"
     ]
    }
   ],
   "source": [
    "shots= 100024\n",
    "for i in range(5):\n",
    "    qc1 = qc.copy()\n",
    "    qc1.add_register(creg) \n",
    "    qc1.measure(i, creg)\n",
    "    shots = 1024\n",
    "    cnts = execute(qc1, backend= qsm, shots= shots).result().get_counts()\n",
    "    print('i= ', i, ' :', round(cnts['1']*10/shots))"
   ]
  },
  {
   "cell_type": "code",
   "execution_count": null,
   "metadata": {},
   "outputs": [
    {
     "name": "stdout",
     "output_type": "stream",
     "text": [
      "i=  0  : 0.234375\n",
      "i=  1  : 0.263671875\n",
      "i=  2  : 0.265625\n",
      "i=  3  : 0.2412109375\n",
      "i=  4  : 0.5068359375\n"
     ]
    }
   ],
   "source": [
    "shots= 50024\n",
    "for i in range(5):\n",
    "    qc1 = qc.copy()\n",
    "    qc1.add_register(creg) \n",
    "    qc1.measure(i, creg)\n",
    "    shots = 1024\n",
    "    cnts = execute(qc1, backend= qsm, shots= shots).result().get_counts()\n",
    "    print('i= ', i, ' :', cnts['1']/shots)"
   ]
  },
  {
   "cell_type": "code",
   "execution_count": null,
   "metadata": {},
   "outputs": [
    {
     "data": {
      "text/plain": [
       "array([ 1.        ,  0.30901699, -0.80901699, -0.80901699,  0.30901699])"
      ]
     },
     "execution_count": 54,
     "metadata": {},
     "output_type": "execute_result"
    }
   ],
   "source": [
    "x = np.array([ 2*pi*(i/n) for i in range(n)])\n",
    "np.cos(x)"
   ]
  },
  {
   "cell_type": "code",
   "execution_count": null,
   "metadata": {},
   "outputs": [
    {
     "name": "stdout",
     "output_type": "stream",
     "text": [
      "{'0': 10024}\n",
      "{'1': 3469, '0': 6555}\n",
      "{'0': 924, '1': 9100}\n",
      "{'0': 879, '1': 9145}\n",
      "{'0': 6579, '1': 3445}\n"
     ]
    },
    {
     "data": {
      "text/plain": [
       "array([ 1.        ,  0.30786113, -0.81564246, -0.82462091,  0.31264964])"
      ]
     },
     "execution_count": 56,
     "metadata": {},
     "output_type": "execute_result"
    }
   ],
   "source": [
    "measure_phase(qc)"
   ]
  },
  {
   "cell_type": "code",
   "execution_count": null,
   "metadata": {},
   "outputs": [],
   "source": [
    "def measure_phase(qc: QuantumCircuit, qubit: Union[int, Qubit, str]= 'all' , shots= 10024  ):\n",
    "    n = qc.num_qubits - qc.num_ancillas\n",
    "    phases = np.zeros(n)\n",
    "    if qubit == 'all':s\n",
    "        for i in range(n):\n",
    "            qc_t = qc.copy()\n",
    "            creg_internal = ClassicalRegister(1)\n",
    "            qc_t.add_register(creg_internal)\n",
    "\n",
    "            qc_t.measure(i, creg_internal)\n",
    "            qc_t.draw()\n",
    "            counts = execute(qc_t, backend= qsm, shots= shots ).result().get_counts()\n",
    "            print(counts)\n",
    "            p0 = counts['0']/shots\n",
    "            phases[i] = 2 * (p0 - 1/2) \n",
    "    \n",
    "    return phases"
   ]
  },
  {
   "cell_type": "markdown",
   "metadata": {},
   "source": [
    "##### #State Reconstruction "
   ]
  },
  {
   "cell_type": "code",
   "execution_count": null,
   "metadata": {},
   "outputs": [
    {
     "data": {
      "text/plain": [
       "<qiskit.circuit.instructionset.InstructionSet at 0x7fa83b549840>"
      ]
     },
     "execution_count": 75,
     "metadata": {},
     "output_type": "execute_result"
    }
   ],
   "source": [
    "## check hadamard test \n",
    "\n",
    "qreg = QuantumRegister(1, name= 'reg')\n",
    "one = QuantumRegister(1, name= 'one')\n",
    "ancilla = QuantumRegister(1, name= 'ancilla')\n",
    "\n",
    "creg = ClassicalRegister(1, name= 'creg')\n",
    "qc = QuantumCircuit(qreg, one, ancilla, creg)\n",
    "\n",
    "p = (2)/10\n",
    "theta = 2*np.arcsin(np.sqrt(p))\n",
    "qc.ry(theta, qreg)\n",
    "qc.x(one)\n",
    "\n",
    "qc.barrier()"
   ]
  },
  {
   "cell_type": "code",
   "execution_count": null,
   "metadata": {},
   "outputs": [
    {
     "data": {
      "text/plain": [
       "<qiskit.circuit.instructionset.InstructionSet at 0x7fa83b54c880>"
      ]
     },
     "execution_count": 76,
     "metadata": {},
     "output_type": "execute_result"
    }
   ],
   "source": [
    "qc.h(ancilla)\n",
    "qc.cswap(ancilla, one, qreg)\n",
    "qc.h(ancilla)\n",
    "qc.barrier()"
   ]
  },
  {
   "cell_type": "code",
   "execution_count": null,
   "metadata": {},
   "outputs": [
    {
     "data": {
      "text/plain": [
       "<qiskit.circuit.instructionset.InstructionSet at 0x7fa83b537740>"
      ]
     },
     "execution_count": 77,
     "metadata": {},
     "output_type": "execute_result"
    }
   ],
   "source": [
    "qc.measure(ancilla, creg)\n",
    "qc.barrier()"
   ]
  },
  {
   "cell_type": "code",
   "execution_count": null,
   "metadata": {},
   "outputs": [
    {
     "data": {
      "text/plain": [
       "<qiskit.circuit.instructionset.InstructionSet at 0x7fa83b5494c0>"
      ]
     },
     "execution_count": 78,
     "metadata": {},
     "output_type": "execute_result"
    }
   ],
   "source": [
    "qc.swap(one,qreg).c_if(creg, 1)"
   ]
  },
  {
   "cell_type": "code",
   "execution_count": null,
   "metadata": {},
   "outputs": [
    {
     "data": {
      "text/html": [
       "<pre style=\"word-wrap: normal;white-space: pre;background: #fff0;line-height: 1.1;font-family: &quot;Courier New&quot;,Courier,monospace\">         ┌────────────┐ ░               ░     ░        \n",
       "    reg: ┤ Ry(0.9273) ├─░───────X───────░─────░────X───\n",
       "         └───┬───┬────┘ ░       │       ░     ░    │   \n",
       "    one: ────┤ X ├──────░───────X───────░─────░────X───\n",
       "             └───┘      ░ ┌───┐ │ ┌───┐ ░ ┌─┐ ░    ║   \n",
       "ancilla: ───────────────░─┤ H ├─■─┤ H ├─░─┤M├─░────╫───\n",
       "                        ░ └───┘   └───┘ ░ └╥┘ ░ ┌──╨──┐\n",
       " creg: 1/══════════════════════════════════╩════╡ 0x1 ╞\n",
       "                                           0    └─────┘</pre>"
      ],
      "text/plain": [
       "         ┌────────────┐ ░               ░     ░        \n",
       "    reg: ┤ Ry(0.9273) ├─░───────X───────░─────░────X───\n",
       "         └───┬───┬────┘ ░       │       ░     ░    │   \n",
       "    one: ────┤ X ├──────░───────X───────░─────░────X───\n",
       "             └───┘      ░ ┌───┐ │ ┌───┐ ░ ┌─┐ ░    ║   \n",
       "ancilla: ───────────────░─┤ H ├─■─┤ H ├─░─┤M├─░────╫───\n",
       "                        ░ └───┘   └───┘ ░ └╥┘ ░ ┌──╨──┐\n",
       " creg: 1/══════════════════════════════════╩════╡ 0x1 ╞\n",
       "                                           0    └─────┘"
      ]
     },
     "execution_count": 79,
     "metadata": {},
     "output_type": "execute_result"
    }
   ],
   "source": [
    "qc.draw()"
   ]
  },
  {
   "cell_type": "code",
   "execution_count": null,
   "metadata": {},
   "outputs": [],
   "source": [
    "shots= 10024\n",
    "counts = execute(qc, backend= qsm, shots= shots).result().get_counts()"
   ]
  },
  {
   "cell_type": "code",
   "execution_count": null,
   "metadata": {},
   "outputs": [
    {
     "data": {
      "text/plain": [
       "-0.19154030327214688"
      ]
     },
     "execution_count": 81,
     "metadata": {},
     "output_type": "execute_result"
    }
   ],
   "source": [
    "2*counts['1']/shots - 1"
   ]
  },
  {
   "cell_type": "code",
   "execution_count": null,
   "metadata": {},
   "outputs": [],
   "source": [
    "qc_or = str_to_oracle('1')\n",
    "gop = GroverOperator( qc_or , name= 'grover', insert_barriers= False)"
   ]
  },
  {
   "cell_type": "code",
   "execution_count": null,
   "metadata": {},
   "outputs": [
    {
     "data": {
      "text/html": [
       "<pre style=\"word-wrap: normal;white-space: pre;background: #fff0;line-height: 1.1;font-family: &quot;Courier New&quot;,Courier,monospace\">         ┌────┐\n",
       "  state: ┤0   ├\n",
       "         │  Q │\n",
       "ancilla: ┤1   ├\n",
       "         └────┘</pre>"
      ],
      "text/plain": [
       "         ┌────┐\n",
       "  state: ┤0   ├\n",
       "         │  Q │\n",
       "ancilla: ┤1   ├\n",
       "         └────┘"
      ]
     },
     "execution_count": 55,
     "metadata": {},
     "output_type": "execute_result"
    }
   ],
   "source": [
    "gop.draw()"
   ]
  },
  {
   "cell_type": "code",
   "execution_count": null,
   "metadata": {},
   "outputs": [
    {
     "ename": "CircuitError",
     "evalue": "\"Trying to compose with another QuantumCircuit which has more 'in' edges.\"",
     "output_type": "error",
     "traceback": [
      "\u001b[0;31m---------------------------------------------------------------------------\u001b[0m",
      "\u001b[0;31mCircuitError\u001b[0m                              Traceback (most recent call last)",
      "\u001b[1;32m/home/rajarsi/Documents/QuantumPermutations/QuantumPermutationSecretSharing/QuantumPermutation_trial_0.1.ipynb Cell 37\u001b[0m in \u001b[0;36m<cell line: 5>\u001b[0;34m()\u001b[0m\n\u001b[1;32m      <a href='vscode-notebook-cell:/home/rajarsi/Documents/QuantumPermutations/QuantumPermutationSecretSharing/QuantumPermutation_trial_0.1.ipynb#X50sZmlsZQ%3D%3D?line=1'>2</a>\u001b[0m qc\u001b[39m.\u001b[39mh(\u001b[39m0\u001b[39m)\n\u001b[1;32m      <a href='vscode-notebook-cell:/home/rajarsi/Documents/QuantumPermutations/QuantumPermutationSecretSharing/QuantumPermutation_trial_0.1.ipynb#X50sZmlsZQ%3D%3D?line=2'>3</a>\u001b[0m qc\u001b[39m.\u001b[39mbarrier()\n\u001b[0;32m----> <a href='vscode-notebook-cell:/home/rajarsi/Documents/QuantumPermutations/QuantumPermutationSecretSharing/QuantumPermutation_trial_0.1.ipynb#X50sZmlsZQ%3D%3D?line=4'>5</a>\u001b[0m qc\u001b[39m.\u001b[39;49mcompose(gop, [\u001b[39m0\u001b[39;49m], inplace\u001b[39m=\u001b[39;49m \u001b[39mTrue\u001b[39;49;00m)\n\u001b[1;32m      <a href='vscode-notebook-cell:/home/rajarsi/Documents/QuantumPermutations/QuantumPermutationSecretSharing/QuantumPermutation_trial_0.1.ipynb#X50sZmlsZQ%3D%3D?line=5'>6</a>\u001b[0m \u001b[39m# qc.compose(gop, inplace= True)\u001b[39;00m\n\u001b[1;32m      <a href='vscode-notebook-cell:/home/rajarsi/Documents/QuantumPermutations/QuantumPermutationSecretSharing/QuantumPermutation_trial_0.1.ipynb#X50sZmlsZQ%3D%3D?line=7'>8</a>\u001b[0m qc\u001b[39m.\u001b[39mdraw()\n",
      "File \u001b[0;32m~/.local/lib/python3.10/site-packages/qiskit/circuit/quantumcircuit.py:851\u001b[0m, in \u001b[0;36mQuantumCircuit.compose\u001b[0;34m(self, other, qubits, clbits, front, inplace, wrap)\u001b[0m\n\u001b[1;32m    848\u001b[0m instrs \u001b[39m=\u001b[39m other\u001b[39m.\u001b[39mdata\n\u001b[1;32m    850\u001b[0m \u001b[39mif\u001b[39;00m other\u001b[39m.\u001b[39mnum_qubits \u001b[39m>\u001b[39m \u001b[39mself\u001b[39m\u001b[39m.\u001b[39mnum_qubits \u001b[39mor\u001b[39;00m other\u001b[39m.\u001b[39mnum_clbits \u001b[39m>\u001b[39m \u001b[39mself\u001b[39m\u001b[39m.\u001b[39mnum_clbits:\n\u001b[0;32m--> 851\u001b[0m     \u001b[39mraise\u001b[39;00m CircuitError(\n\u001b[1;32m    852\u001b[0m         \u001b[39m\"\u001b[39m\u001b[39mTrying to compose with another QuantumCircuit which has more \u001b[39m\u001b[39m'\u001b[39m\u001b[39min\u001b[39m\u001b[39m'\u001b[39m\u001b[39m edges.\u001b[39m\u001b[39m\"\u001b[39m\n\u001b[1;32m    853\u001b[0m     )\n\u001b[1;32m    855\u001b[0m \u001b[39m# number of qubits and clbits must match number in circuit or None\u001b[39;00m\n\u001b[1;32m    856\u001b[0m identity_qubit_map \u001b[39m=\u001b[39m \u001b[39mdict\u001b[39m(\u001b[39mzip\u001b[39m(other\u001b[39m.\u001b[39mqubits, \u001b[39mself\u001b[39m\u001b[39m.\u001b[39mqubits))\n",
      "\u001b[0;31mCircuitError\u001b[0m: \"Trying to compose with another QuantumCircuit which has more 'in' edges.\""
     ]
    }
   ],
   "source": [
    "qc = QuantumCircuit(1)\n",
    "qc.h(0)\n",
    "qc.barrier()\n",
    "\n",
    "qc.compose(gop, [0], inplace= True)\n",
    "# qc.compose(gop, inplace= True)\n",
    "\n",
    "qc.draw()"
   ]
  },
  {
   "cell_type": "code",
   "execution_count": null,
   "metadata": {},
   "outputs": [
    {
     "data": {
      "image/png": "[encoded data removed]",
      "text/plain": [
       "<Figure size 504x360 with 1 Axes>"
      ]
     },
     "execution_count": 48,
     "metadata": {},
     "output_type": "execute_result"
    },
    {
     "data": {
      "text/plain": [
       "<Figure size 432x288 with 0 Axes>"
      ]
     },
     "metadata": {},
     "output_type": "display_data"
    }
   ],
   "source": [
    "measure_and_plot(qc)"
   ]
  },
  {
   "cell_type": "code",
   "execution_count": null,
   "metadata": {},
   "outputs": [
    {
     "data": {
      "text/html": [
       "<pre style=\"word-wrap: normal;white-space: pre;background: #fff0;line-height: 1.1;font-family: &quot;Courier New&quot;,Courier,monospace\">global phase: π/2\n",
       "   ┌──────────┐\n",
       "q: ┤ Ucrz(-π) ├\n",
       "   └──────────┘</pre>"
      ],
      "text/plain": [
       "global phase: π/2\n",
       "   ┌──────────┐\n",
       "q: ┤ Ucrz(-π) ├\n",
       "   └──────────┘"
      ]
     },
     "execution_count": 38,
     "metadata": {},
     "output_type": "execute_result"
    }
   ],
   "source": [
    "gop.oracle.decompose().draw()"
   ]
  },
  {
   "cell_type": "code",
   "execution_count": null,
   "metadata": {},
   "outputs": [],
   "source": []
  },
  {
   "cell_type": "code",
   "execution_count": null,
   "metadata": {},
   "outputs": [],
   "source": []
  }
 ],
 "metadata": {
  "kernelspec": {
   "display_name": "Python 3.10.4 ('qenv')",
   "language": "python",
   "name": "python3"
  },
  "language_info": {
   "codemirror_mode": {
    "name": "ipython",
    "version": 3
   },
   "file_extension": ".py",
   "mimetype": "text/x-python",
   "name": "python",
   "nbconvert_exporter": "python",
   "pygments_lexer": "ipython3",
   "version": "3.10.4"
  },
  "orig_nbformat": 4,
  "vscode": {
   "interpreter": {
    "hash": "31e2e62f1f7a93a516a99d014b277d31db4654ffc68f79bbc57a5ac6d646d4af"
   }
  }
 },
 "nbformat": 4,
 "nbformat_minor": 2
}
